{
  "nbformat": 4,
  "nbformat_minor": 0,
  "metadata": {
    "colab": {
      "provenance": [],
      "authorship_tag": "ABX9TyN5p6xRfO9d7dtW+GiFmE1S",
      "include_colab_link": true
    },
    "kernelspec": {
      "name": "python3",
      "display_name": "Python 3"
    },
    "language_info": {
      "name": "python"
    }
  },
  "cells": [
    {
      "cell_type": "markdown",
      "metadata": {
        "id": "view-in-github",
        "colab_type": "text"
      },
      "source": [
        "<a href=\"https://colab.research.google.com/github/Esprees0/PythonClass/blob/main/Fuction.ipynb\" target=\"_parent\"><img src=\"https://colab.research.google.com/assets/colab-badge.svg\" alt=\"Open In Colab\"/></a>"
      ]
    },
    {
      "cell_type": "code",
      "execution_count": null,
      "metadata": {
        "colab": {
          "base_uri": "https://localhost:8080/"
        },
        "id": "pJ-pclGcFvUa",
        "outputId": "0584518c-5867-4a14-a51c-d30cca4b812d"
      },
      "outputs": [
        {
          "output_type": "stream",
          "name": "stdout",
          "text": [
            "I am Kanchaya\n",
            "I Love Python\n"
          ]
        }
      ],
      "source": [
        "def message():\n",
        "  print('I am Kanchaya')\n",
        "  print('I Love Python')\n",
        "\n",
        "message()"
      ]
    },
    {
      "cell_type": "code",
      "source": [],
      "metadata": {
        "id": "VRLp5XekKeDf"
      },
      "execution_count": null,
      "outputs": []
    },
    {
      "cell_type": "code",
      "source": [
        "def main():\n",
        "  print('I have a message for you')\n",
        "  message()\n",
        "  print('Goodbye!')\n",
        "\n",
        "def message():\n",
        "  print('I am Anirach,')\n",
        "  print('I Love Python')\n",
        "\n",
        "main()"
      ],
      "metadata": {
        "colab": {
          "base_uri": "https://localhost:8080/"
        },
        "id": "Fi2kYDvRGqSJ",
        "outputId": "443d06c5-ef84-472d-e6ef-a1993695a2c1"
      },
      "execution_count": null,
      "outputs": [
        {
          "output_type": "stream",
          "name": "stdout",
          "text": [
            "I have a message for you\n",
            "I am Anirach,\n",
            "I Love Python\n",
            "Goodbye!\n"
          ]
        }
      ]
    },
    {
      "cell_type": "code",
      "source": [
        "def luk():\n",
        "  texas()\n",
        "  california()\n",
        "\n",
        "def texas():\n",
        "  birds = 5000\n",
        "  print('texas has', birds, 'birds.')\n",
        "\n",
        "def california():\n",
        "  birds = 8000\n",
        "  print('california has', birds, 'birds.')\n",
        "\n",
        "luk()"
      ],
      "metadata": {
        "colab": {
          "base_uri": "https://localhost:8080/"
        },
        "id": "qTdaw9x-Ke7n",
        "outputId": "99c6ce89-0f50-4fcc-ebdc-14984e05f4e0"
      },
      "execution_count": null,
      "outputs": [
        {
          "output_type": "stream",
          "name": "stdout",
          "text": [
            "texas has 5000 birds.\n",
            "california has 8000 birds.\n"
          ]
        }
      ]
    },
    {
      "cell_type": "code",
      "source": [
        "def main():\n",
        "  value = 5\n",
        "  show_double(value)\n",
        "\n",
        "def show_double(number):\n",
        "  result = number * 2\n",
        "  print(result)\n",
        "\n",
        "main()"
      ],
      "metadata": {
        "colab": {
          "base_uri": "https://localhost:8080/"
        },
        "id": "0XeEeyiXMRVy",
        "outputId": "1ba65b81-ecca-4ca1-a1ce-c219f185d1d6"
      },
      "execution_count": null,
      "outputs": [
        {
          "output_type": "stream",
          "name": "stdout",
          "text": [
            "10\n"
          ]
        }
      ]
    },
    {
      "cell_type": "code",
      "source": [
        "def main():\n",
        "  print('The sum of 12 and 45 is')\n",
        "  show_sum(12,45)\n",
        "\n",
        "def show_sum(num1,num2):\n",
        "  result = num1 + num2\n",
        "  print(result)\n",
        "\n",
        "main()"
      ],
      "metadata": {
        "colab": {
          "base_uri": "https://localhost:8080/"
        },
        "id": "I8VzvO08MtqU",
        "outputId": "93143868-6ac0-483f-bd8b-8fc929c2b255"
      },
      "execution_count": null,
      "outputs": [
        {
          "output_type": "stream",
          "name": "stdout",
          "text": [
            "The sum of 12 and 45 is\n",
            "57\n"
          ]
        }
      ]
    },
    {
      "cell_type": "code",
      "source": [
        "def main():\n",
        "  value = 99\n",
        "  print('The value is', value)\n",
        "  change_me(value)\n",
        "  print('Back in main the value is', value)\n",
        "\n",
        "def change_me(arg):\n",
        "  print('I am changing the value.')\n",
        "  arg = 0\n",
        "  print('Now the value is', arg)\n",
        "\n",
        "main()\n"
      ],
      "metadata": {
        "id": "ke_QFUQUMtyt",
        "colab": {
          "base_uri": "https://localhost:8080/"
        },
        "outputId": "6d970542-d883-4324-85af-0e2755b87edd"
      },
      "execution_count": null,
      "outputs": [
        {
          "output_type": "stream",
          "name": "stdout",
          "text": [
            "The value is 99\n",
            "I am changing the value.\n",
            "Now the value is 0\n",
            "Back in main the value is 99\n"
          ]
        }
      ]
    },
    {
      "cell_type": "code",
      "source": [
        "def reverse_name (first,last):\n",
        "  print(last,first)\n",
        "\n",
        "def main():\n",
        "  first_name = input('Enter your fisrt name:')\n",
        "  last_name= input('Enter your last name:')\n",
        "  print('Your name reversed is')\n",
        "  reverse_name(first_name,last_name)\n",
        "\n",
        "main()"
      ],
      "metadata": {
        "colab": {
          "base_uri": "https://localhost:8080/"
        },
        "id": "eZGHp0ybPovd",
        "outputId": "624a7398-158b-452e-ff66-5675f7de2b7e"
      },
      "execution_count": null,
      "outputs": [
        {
          "output_type": "stream",
          "name": "stdout",
          "text": [
            "Enter your fisrt name:Ambutta\n",
            "Enter your last name:So\n",
            "Your name reversed is\n",
            "So Ambutta\n"
          ]
        }
      ]
    },
    {
      "cell_type": "code",
      "source": [
        "number = 0\n",
        "\n",
        "def main():\n",
        "  global number\n",
        "  number = int(input('Enter a number: '))\n",
        "  show_number()\n",
        "\n",
        "def show_number():\n",
        "  print('The number you entered is', number)\n",
        "\n",
        "main()"
      ],
      "metadata": {
        "colab": {
          "base_uri": "https://localhost:8080/"
        },
        "id": "oSZCEA_kRPmD",
        "outputId": "e1fc5dfd-34e8-413a-ee21-7f5ab0584869"
      },
      "execution_count": 27,
      "outputs": [
        {
          "output_type": "stream",
          "name": "stdout",
          "text": [
            "Enter a number: 15\n",
            "The number you entered is 0\n"
          ]
        }
      ]
    },
    {
      "cell_type": "code",
      "source": [
        "import random\n",
        "\n",
        "HEADS = 1\n",
        "TALLS = 2\n",
        "TOSSES = 10\n",
        "\n",
        "def main():\n",
        "  for toss in range(TOSSES):\n",
        "    if random.randint(HEADS,TALLS) == HEADS:\n",
        "      print('Heads')\n",
        "    else:\n",
        "      print('Tails')\n",
        "\n",
        "main()"
      ],
      "metadata": {
        "colab": {
          "base_uri": "https://localhost:8080/"
        },
        "id": "qNsQ75XzRb6z",
        "outputId": "c7b7ea67-684d-44a1-bcaa-6e494041737a"
      },
      "execution_count": 29,
      "outputs": [
        {
          "output_type": "stream",
          "name": "stdout",
          "text": [
            "Heads\n",
            "Tails\n",
            "Heads\n",
            "Heads\n",
            "Heads\n",
            "Heads\n",
            "Heads\n",
            "Tails\n",
            "Tails\n",
            "Heads\n"
          ]
        }
      ]
    },
    {
      "cell_type": "code",
      "source": [],
      "metadata": {
        "id": "39tYkUW7SAdR"
      },
      "execution_count": null,
      "outputs": []
    }
  ]
}