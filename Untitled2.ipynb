{
  "nbformat": 4,
  "nbformat_minor": 0,
  "metadata": {
    "colab": {
      "provenance": [],
      "authorship_tag": "ABX9TyPStkwEGKg1LHxfSuz2Wg3S",
      "include_colab_link": true
    },
    "kernelspec": {
      "name": "python3",
      "display_name": "Python 3"
    },
    "language_info": {
      "name": "python"
    }
  },
  "cells": [
    {
      "cell_type": "markdown",
      "metadata": {
        "id": "view-in-github",
        "colab_type": "text"
      },
      "source": [
        "<a href=\"https://colab.research.google.com/github/Esprees0/PythonClass/blob/main/Untitled2.ipynb\" target=\"_parent\"><img src=\"https://colab.research.google.com/assets/colab-badge.svg\" alt=\"Open In Colab\"/></a>"
      ]
    },
    {
      "cell_type": "code",
      "execution_count": 5,
      "metadata": {
        "colab": {
          "base_uri": "https://localhost:8080/"
        },
        "id": "pJ-pclGcFvUa",
        "outputId": "0584518c-5867-4a14-a51c-d30cca4b812d"
      },
      "outputs": [
        {
          "output_type": "stream",
          "name": "stdout",
          "text": [
            "I am Kanchaya\n",
            "I Love Python\n"
          ]
        }
      ],
      "source": [
        "def message():\n",
        "  print('I am Kanchaya')\n",
        "  print('I Love Python')\n",
        "\n",
        "message()"
      ]
    },
    {
      "cell_type": "code",
      "source": [],
      "metadata": {
        "id": "VRLp5XekKeDf"
      },
      "execution_count": null,
      "outputs": []
    },
    {
      "cell_type": "code",
      "source": [
        "def main():\n",
        "  print('I have a message for you')\n",
        "  message()\n",
        "  print('Goodbye!')\n",
        "\n",
        "def message():\n",
        "  print('I am Anirach,')\n",
        "  print('I Love Python')\n",
        "\n",
        "main()"
      ],
      "metadata": {
        "colab": {
          "base_uri": "https://localhost:8080/"
        },
        "id": "Fi2kYDvRGqSJ",
        "outputId": "443d06c5-ef84-472d-e6ef-a1993695a2c1"
      },
      "execution_count": 9,
      "outputs": [
        {
          "output_type": "stream",
          "name": "stdout",
          "text": [
            "I have a message for you\n",
            "I am Anirach,\n",
            "I Love Python\n",
            "Goodbye!\n"
          ]
        }
      ]
    },
    {
      "cell_type": "code",
      "source": [
        "def luk():\n",
        "  texas()\n",
        "  california()\n",
        "\n",
        "def texas():\n",
        "  birds = 5000\n",
        "  print('texas has', birds, 'birds.')\n",
        "\n",
        "def california():\n",
        "  birds = 8000\n",
        "  print('california has', birds, 'birds.')\n",
        "\n",
        "luk()"
      ],
      "metadata": {
        "colab": {
          "base_uri": "https://localhost:8080/"
        },
        "id": "qTdaw9x-Ke7n",
        "outputId": "99c6ce89-0f50-4fcc-ebdc-14984e05f4e0"
      },
      "execution_count": 13,
      "outputs": [
        {
          "output_type": "stream",
          "name": "stdout",
          "text": [
            "texas has 5000 birds.\n",
            "california has 8000 birds.\n"
          ]
        }
      ]
    },
    {
      "cell_type": "code",
      "source": [
        "def main():\n",
        "  value = 5\n",
        "  show_double(value)\n",
        "\n",
        "def show_double(number):\n",
        "  result = number * 2\n",
        "  print(result)\n",
        "\n",
        "main()"
      ],
      "metadata": {
        "colab": {
          "base_uri": "https://localhost:8080/"
        },
        "id": "0XeEeyiXMRVy",
        "outputId": "1ba65b81-ecca-4ca1-a1ce-c219f185d1d6"
      },
      "execution_count": 15,
      "outputs": [
        {
          "output_type": "stream",
          "name": "stdout",
          "text": [
            "10\n"
          ]
        }
      ]
    },
    {
      "cell_type": "code",
      "source": [
        "def main():\n",
        "  print('The sum of 12 and 45 is')\n",
        "  show_sum(12,45)\n",
        "\n",
        "def show_sum(num1,num2):\n",
        "  result = num1 + num2\n",
        "  print(result)\n",
        "\n",
        "main()"
      ],
      "metadata": {
        "colab": {
          "base_uri": "https://localhost:8080/"
        },
        "id": "I8VzvO08MtqU",
        "outputId": "93143868-6ac0-483f-bd8b-8fc929c2b255"
      },
      "execution_count": 19,
      "outputs": [
        {
          "output_type": "stream",
          "name": "stdout",
          "text": [
            "The sum of 12 and 45 is\n",
            "57\n"
          ]
        }
      ]
    },
    {
      "cell_type": "code",
      "source": [],
      "metadata": {
        "id": "ke_QFUQUMtyt"
      },
      "execution_count": null,
      "outputs": []
    }
  ]
}