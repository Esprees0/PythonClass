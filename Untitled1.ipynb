{
  "nbformat": 4,
  "nbformat_minor": 0,
  "metadata": {
    "colab": {
      "provenance": [],
      "authorship_tag": "ABX9TyPw90J1QMzFWMpy4WxQIahz",
      "include_colab_link": true
    },
    "kernelspec": {
      "name": "python3",
      "display_name": "Python 3"
    },
    "language_info": {
      "name": "python"
    }
  },
  "cells": [
    {
      "cell_type": "markdown",
      "metadata": {
        "id": "view-in-github",
        "colab_type": "text"
      },
      "source": [
        "<a href=\"https://colab.research.google.com/github/Esprees0/PythonClass/blob/main/Untitled1.ipynb\" target=\"_parent\"><img src=\"https://colab.research.google.com/assets/colab-badge.svg\" alt=\"Open In Colab\"/></a>"
      ]
    },
    {
      "cell_type": "code",
      "execution_count": 1,
      "metadata": {
        "colab": {
          "base_uri": "https://localhost:8080/",
          "height": 219
        },
        "id": "CRrSEE2Q0WBv",
        "outputId": "18f69943-5972-471e-c1f3-9fa8f75e8c8e"
      },
      "outputs": [
        {
          "output_type": "error",
          "ename": "TypeError",
          "evalue": "ignored",
          "traceback": [
            "\u001b[0;31m---------------------------------------------------------------------------\u001b[0m",
            "\u001b[0;31mTypeError\u001b[0m                                 Traceback (most recent call last)",
            "\u001b[0;32m<ipython-input-1-3fab03e8fb1c>\u001b[0m in \u001b[0;36m<cell line: 4>\u001b[0;34m()\u001b[0m\n\u001b[1;32m      2\u001b[0m \u001b[0mfriend\u001b[0m \u001b[0;34m=\u001b[0m \u001b[0;34m'Kill'\u001b[0m\u001b[0;34m\u001b[0m\u001b[0;34m\u001b[0m\u001b[0m\n\u001b[1;32m      3\u001b[0m \u001b[0;31m# Can we change the first character to 'W'\u001b[0m\u001b[0;34m\u001b[0m\u001b[0;34m\u001b[0m\u001b[0m\n\u001b[0;32m----> 4\u001b[0;31m \u001b[0mfriend\u001b[0m\u001b[0;34m[\u001b[0m\u001b[0;36m0\u001b[0m\u001b[0;34m]\u001b[0m \u001b[0;34m=\u001b[0m \u001b[0;34m'W'\u001b[0m\u001b[0;34m\u001b[0m\u001b[0;34m\u001b[0m\u001b[0m\n\u001b[0m",
            "\u001b[0;31mTypeError\u001b[0m: 'str' object does not support item assignment"
          ]
        }
      ],
      "source": [
        "# Assign 'Kill' to friend.\n",
        "friend = 'Kill'\n",
        "# Can we change the first character to 'W'\n",
        "friend[0] = 'W' # No, this will cause an error!"
      ]
    },
    {
      "cell_type": "code",
      "source": [
        "ss = 'Sammy Shark!'\n",
        "print(ss[4])\n",
        "print(ss[6:11])\n",
        "print(ss[:5])\n",
        "print(ss[7:])\n",
        "print(ss[-4:-1])\n",
        "print(ss[6:11])\n",
        "print(ss[6:11:1])\n",
        "print(ss[0:12:2])\n",
        "print(ss[0:12:4])\n",
        "print(ss[::4])\n",
        "print(ss[::-1])\n",
        "print(ss[::-2])"
      ],
      "metadata": {
        "colab": {
          "base_uri": "https://localhost:8080/"
        },
        "id": "lGdQHQNP1Twd",
        "outputId": "609b9bb7-e0eb-4687-c198-25b8a802335e"
      },
      "execution_count": 4,
      "outputs": [
        {
          "output_type": "stream",
          "name": "stdout",
          "text": [
            "y\n",
            "Shark\n",
            "Sammy\n",
            "hark!\n",
            "ark\n",
            "Shark\n",
            "Shark\n",
            "SmySak\n",
            "Sya\n",
            "Sya\n",
            "!krahS ymmaS\n",
            "!rh ma\n"
          ]
        }
      ]
    }
  ]
}