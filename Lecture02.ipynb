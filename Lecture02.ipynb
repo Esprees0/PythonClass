{
  "nbformat": 4,
  "nbformat_minor": 0,
  "metadata": {
    "colab": {
      "provenance": [],
      "authorship_tag": "ABX9TyNbDw1oUR8EtdiISD9GUSrs",
      "include_colab_link": true
    },
    "kernelspec": {
      "name": "python3",
      "display_name": "Python 3"
    },
    "language_info": {
      "name": "python"
    }
  },
  "cells": [
    {
      "cell_type": "markdown",
      "metadata": {
        "id": "view-in-github",
        "colab_type": "text"
      },
      "source": [
        "<a href=\"https://colab.research.google.com/github/Esprees0/PythonClass/blob/main/Lecture02.ipynb\" target=\"_parent\"><img src=\"https://colab.research.google.com/assets/colab-badge.svg\" alt=\"Open In Colab\"/></a>"
      ]
    },
    {
      "cell_type": "code",
      "execution_count": null,
      "metadata": {
        "colab": {
          "base_uri": "https://localhost:8080/"
        },
        "id": "FM58PCOv9Udn",
        "outputId": "1c9df0d4-02fc-4d87-9f67-47e7caa291b0"
      },
      "outputs": [
        {
          "output_type": "stream",
          "name": "stdout",
          "text": [
            "10\n"
          ]
        }
      ],
      "source": [
        "age = 10\n",
        "print(age)"
      ]
    },
    {
      "cell_type": "code",
      "source": [
        "first3letters = 'ABC'"
      ],
      "metadata": {
        "id": "hWGF8gkK_OIe"
      },
      "execution_count": null,
      "outputs": []
    },
    {
      "cell_type": "code",
      "source": [
        "first_three_letters = \"ABC\""
      ],
      "metadata": {
        "id": "zMyaRKv3_Tiz"
      },
      "execution_count": null,
      "outputs": []
    },
    {
      "cell_type": "code",
      "source": [
        "firstThreeLetters = 'ABC'"
      ],
      "metadata": {
        "id": "sz6ehh-m_Vxs"
      },
      "execution_count": 14,
      "outputs": []
    },
    {
      "cell_type": "code",
      "source": [
        "integer = 42\n",
        "floatting = 4.2\n",
        "string = \"Hello\"\n",
        "a = b = c = d = 0.0"
      ],
      "metadata": {
        "id": "z09wT3BMBGwc"
      },
      "execution_count": 18,
      "outputs": []
    },
    {
      "cell_type": "code",
      "source": [
        "x = 90\n",
        "y = 90.00\n",
        "\n",
        "print (x, ' ',y)"
      ],
      "metadata": {
        "colab": {
          "base_uri": "https://localhost:8080/"
        },
        "id": "FKe0dQ8kA89O",
        "outputId": "fb848d83-6da7-44ac-b21b-3e2d3a354646"
      },
      "execution_count": 23,
      "outputs": [
        {
          "output_type": "stream",
          "name": "stdout",
          "text": [
            "90   90.0\n"
          ]
        }
      ]
    },
    {
      "cell_type": "code",
      "source": [
        "x = 5\n",
        "y = 7832\n",
        "\n",
        "x,y = y,x\n",
        "print ('x = %d y = %d' %(x,y))"
      ],
      "metadata": {
        "colab": {
          "base_uri": "https://localhost:8080/"
        },
        "id": "CDLTrv-hBqz1",
        "outputId": "65a3b14e-06c0-4ead-e68a-e91e1a8fa208"
      },
      "execution_count": 26,
      "outputs": [
        {
          "output_type": "stream",
          "name": "stdout",
          "text": [
            "x = 7832 y = 5\n"
          ]
        }
      ]
    },
    {
      "cell_type": "code",
      "source": [
        "t = True\n",
        "type(t)"
      ],
      "metadata": {
        "colab": {
          "base_uri": "https://localhost:8080/"
        },
        "id": "NxQmYjtUEOAp",
        "outputId": "00a5b80a-d011-4edc-97fb-c808e7b313e6"
      },
      "execution_count": 31,
      "outputs": [
        {
          "output_type": "execute_result",
          "data": {
            "text/plain": [
              "bool"
            ]
          },
          "metadata": {},
          "execution_count": 31
        }
      ]
    },
    {
      "cell_type": "code",
      "source": [
        "f = False\n",
        "type(f)\n",
        "print(f)"
      ],
      "metadata": {
        "colab": {
          "base_uri": "https://localhost:8080/"
        },
        "id": "xSSYnV0CET0Q",
        "outputId": "ec6f9e57-96e0-4ac4-88b3-3aca0b7c22b6"
      },
      "execution_count": 28,
      "outputs": [
        {
          "output_type": "stream",
          "name": "stdout",
          "text": [
            "False\n"
          ]
        }
      ]
    }
  ]
}